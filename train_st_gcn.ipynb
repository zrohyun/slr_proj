{
 "cells": [
  {
   "cell_type": "code",
   "execution_count": null,
   "id": "daabaad5-3cdd-444c-93e3-4b148e3fad74",
   "metadata": {},
   "outputs": [],
   "source": [
    "import os,sys\n",
    "from slr.model.st_gcn import st_gcn\n",
    "import pandas as pd\n",
    "import numpy as np\n",
    "import tensorflow as tf\n",
    "import torch\n",
    "import torch.nn as nn\n",
    "import torch.optim as optim\n",
    "import time\n",
    "from tqdm import tqdm\n",
    "from slr.data.datagenerator import TFRecDataGenerator\n",
    "os.getcwd()\n"
   ]
  },
  {
   "cell_type": "code",
   "execution_count": 2,
   "id": "c27b6f2a-9995-4807-ae8d-5f200bf9c544",
   "metadata": {},
   "outputs": [],
   "source": [
    "from slr.data.ksl.ksl_adj import Graph"
   ]
  },
  {
   "cell_type": "code",
   "execution_count": 6,
   "id": "752fb8af",
   "metadata": {},
   "outputs": [],
   "source": [
    "\n",
    "dataset = TFRecDataGenerator(\"test_with_preprocess.tfrec\",batch_size=16)"
   ]
  },
  {
   "cell_type": "code",
   "execution_count": 6,
   "id": "bd792f0a",
   "metadata": {},
   "outputs": [
    {
     "ename": "NameError",
     "evalue": "name 'Graph' is not defined",
     "output_type": "error",
     "traceback": [
      "\u001b[0;31m---------------------------------------------------------------------------\u001b[0m",
      "\u001b[0;31mNameError\u001b[0m                                 Traceback (most recent call last)",
      "\u001b[1;32m/Users/0hyun/Desktop/slr_proj/train_st_gcn.ipynb 셀 4\u001b[0m in \u001b[0;36m<cell line: 1>\u001b[0;34m()\u001b[0m\n\u001b[1;32m      <a href='vscode-notebook-cell:/Users/0hyun/Desktop/slr_proj/train_st_gcn.ipynb#W5sZmlsZQ%3D%3D?line=0'>1</a>\u001b[0m model \u001b[39m=\u001b[39m st_gcn\u001b[39m.\u001b[39mModel(channel \u001b[39m=\u001b[39m \u001b[39m3\u001b[39m,\n\u001b[1;32m      <a href='vscode-notebook-cell:/Users/0hyun/Desktop/slr_proj/train_st_gcn.ipynb#W5sZmlsZQ%3D%3D?line=1'>2</a>\u001b[0m             num_class\u001b[39m=\u001b[39m\u001b[39m100\u001b[39m,\n\u001b[1;32m      <a href='vscode-notebook-cell:/Users/0hyun/Desktop/slr_proj/train_st_gcn.ipynb#W5sZmlsZQ%3D%3D?line=2'>3</a>\u001b[0m             window_size\u001b[39m=\u001b[39m\u001b[39m150\u001b[39m,\n\u001b[1;32m      <a href='vscode-notebook-cell:/Users/0hyun/Desktop/slr_proj/train_st_gcn.ipynb#W5sZmlsZQ%3D%3D?line=3'>4</a>\u001b[0m             num_point\u001b[39m=\u001b[39m\u001b[39m137\u001b[39m,\n\u001b[0;32m----> <a href='vscode-notebook-cell:/Users/0hyun/Desktop/slr_proj/train_st_gcn.ipynb#W5sZmlsZQ%3D%3D?line=4'>5</a>\u001b[0m             graph \u001b[39m=\u001b[39m Graph(\u001b[39m'\u001b[39m\u001b[39mspatial\u001b[39m\u001b[39m'\u001b[39m))\u001b[39m.\u001b[39mcuda(\u001b[39m0\u001b[39m)\n",
      "\u001b[0;31mNameError\u001b[0m: name 'Graph' is not defined"
     ]
    }
   ],
   "source": [
    "model = st_gcn.Model(channel = 3,\n",
    "            num_class=100,\n",
    "            window_size=150,\n",
    "            num_point=137,\n",
    "            graph = Graph('spatial')).cuda(0)"
   ]
  },
  {
   "cell_type": "code",
   "execution_count": 4,
   "id": "ea87fc85",
   "metadata": {},
   "outputs": [],
   "source": [
    "# from torchsummary import summary\n",
    "# summary(model, (3,150,137,1),device='cuda')"
   ]
  },
  {
   "cell_type": "code",
   "execution_count": 11,
   "id": "8af43daf",
   "metadata": {},
   "outputs": [],
   "source": [
    "from slr.data import DataPath\n",
    "from slr.data.datagenerator import KeyDataGenerator\n",
    "from sklearn.model_selection import train_test_split\n",
    "bat_size=8\n",
    "class_limit=100\n",
    "\n",
    "x_train, x_test, y_train, y_test = DataPath(class_limit).split_data\n",
    "\n",
    "train_generator = KeyDataGenerator(x_train,y_train,batch_size = bat_size,scale=True,seq_len=150)\n",
    "test_generator = KeyDataGenerator(x_test,y_test,batch_size = bat_size, seq_len=150)"
   ]
  },
  {
   "cell_type": "code",
   "execution_count": null,
   "id": "9818ee2e",
   "metadata": {},
   "outputs": [],
   "source": [
    "train_generator[0][0].reshape((bat_size,-1,137,3))\n",
    "train_generator[0][1]"
   ]
  },
  {
   "cell_type": "code",
   "execution_count": 5,
   "id": "4084b2bf",
   "metadata": {
    "scrolled": true
   },
   "outputs": [
    {
     "ename": "NameError",
     "evalue": "name 'model' is not defined",
     "output_type": "error",
     "traceback": [
      "\u001b[0;31m---------------------------------------------------------------------------\u001b[0m",
      "\u001b[0;31mNameError\u001b[0m                                 Traceback (most recent call last)",
      "\u001b[1;32m/Users/0hyun/Desktop/slr_proj/train_st_gcn.ipynb 셀 8\u001b[0m in \u001b[0;36m<cell line: 69>\u001b[0;34m()\u001b[0m\n\u001b[1;32m     <a href='vscode-notebook-cell:/Users/0hyun/Desktop/slr_proj/train_st_gcn.ipynb#X12sZmlsZQ%3D%3D?line=65'>66</a>\u001b[0m         print_log(\u001b[39mf\u001b[39m\u001b[39m\"\u001b[39m\u001b[39mval_loss: \u001b[39m\u001b[39m{\u001b[39;00mval_loss\u001b[39m}\u001b[39;00m\u001b[39m, val_accuracy: \u001b[39m\u001b[39m{\u001b[39;00mval_acc\u001b[39m}\u001b[39;00m\u001b[39m\"\u001b[39m)\n\u001b[1;32m     <a href='vscode-notebook-cell:/Users/0hyun/Desktop/slr_proj/train_st_gcn.ipynb#X12sZmlsZQ%3D%3D?line=67'>68</a>\u001b[0m \u001b[39m# st_gcn_train(model,dataset,10)\u001b[39;00m\n\u001b[0;32m---> <a href='vscode-notebook-cell:/Users/0hyun/Desktop/slr_proj/train_st_gcn.ipynb#X12sZmlsZQ%3D%3D?line=68'>69</a>\u001b[0m st_gcn_train(model,train_generator,test_generator,\u001b[39m200\u001b[39m)\n",
      "\u001b[0;31mNameError\u001b[0m: name 'model' is not defined"
     ]
    }
   ],
   "source": [
    "from slr.model.trainer import TorchTrainer\n",
    "criterion = nn.CrossEntropyLoss().float().cuda(0)\n",
    "optimizer = optim.Adam\n",
    "\n",
    "device = torch.device('cuda:0' if torch.cuda.is_available() else \"cpu\")\n",
    "trainer = TorchTrainer(model,\n",
    "            epochs = 200,\n",
    "            train_loader = train_generator,\n",
    "            test_loader = test_generator,\n",
    "            optim= optimizer,\n",
    "            criterion = criterion,\n",
    "            name = 'st_gen trainer',\n",
    "            device = device,\n",
    "            )\n"
   ]
  },
  {
   "cell_type": "code",
   "execution_count": null,
   "id": "658f2eec",
   "metadata": {},
   "outputs": [],
   "source": []
  },
  {
   "cell_type": "code",
   "execution_count": null,
   "id": "07a11083",
   "metadata": {},
   "outputs": [],
   "source": []
  }
 ],
 "metadata": {
  "kernelspec": {
   "display_name": "Python 3.8.9 ('tvms')",
   "language": "python",
   "name": "python3"
  },
  "language_info": {
   "codemirror_mode": {
    "name": "ipython",
    "version": 3
   },
   "file_extension": ".py",
   "mimetype": "text/x-python",
   "name": "python",
   "nbconvert_exporter": "python",
   "pygments_lexer": "ipython3",
   "version": "3.8.9"
  },
  "vscode": {
   "interpreter": {
    "hash": "f22812d06643b538300a96911b3ff07d3d3c915ac680efcb20d7bf5641d7f3d0"
   }
  }
 },
 "nbformat": 4,
 "nbformat_minor": 5
}
